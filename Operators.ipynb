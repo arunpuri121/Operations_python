{
 "cells": [
  {
   "cell_type": "markdown",
   "id": "24969e0b",
   "metadata": {},
   "source": [
    "### Arithmetic Operators"
   ]
  },
  {
   "cell_type": "code",
   "execution_count": 1,
   "id": "46a6b178",
   "metadata": {},
   "outputs": [
    {
     "data": {
      "text/plain": [
       "25"
      ]
     },
     "execution_count": 1,
     "metadata": {},
     "output_type": "execute_result"
    }
   ],
   "source": [
    "x=15\n",
    "y=10\n",
    "z=x+y\n",
    "z"
   ]
  },
  {
   "cell_type": "code",
   "execution_count": 2,
   "id": "f582e281",
   "metadata": {},
   "outputs": [
    {
     "name": "stdout",
     "output_type": "stream",
     "text": [
      "10\n"
     ]
    }
   ],
   "source": [
    "x=15\n",
    "y=5\n",
    "z=x-y\n",
    "print(z)"
   ]
  },
  {
   "cell_type": "code",
   "execution_count": 4,
   "id": "5e783336",
   "metadata": {},
   "outputs": [
    {
     "name": "stdout",
     "output_type": "stream",
     "text": [
      "50\n"
     ]
    }
   ],
   "source": [
    "x=10\n",
    "y=5\n",
    "z=x*y\n",
    "print(z)"
   ]
  },
  {
   "cell_type": "code",
   "execution_count": 7,
   "id": "4b9f9ca9",
   "metadata": {},
   "outputs": [
    {
     "name": "stdout",
     "output_type": "stream",
     "text": [
      "10.0\n"
     ]
    }
   ],
   "source": [
    "x=50\n",
    "y=5\n",
    "z=x/y\n",
    "print(z)"
   ]
  },
  {
   "cell_type": "code",
   "execution_count": 6,
   "id": "a941f9a0",
   "metadata": {},
   "outputs": [
    {
     "data": {
      "text/plain": [
       "float"
      ]
     },
     "execution_count": 6,
     "metadata": {},
     "output_type": "execute_result"
    }
   ],
   "source": [
    "type(z)"
   ]
  },
  {
   "cell_type": "code",
   "execution_count": 11,
   "id": "3b96162a",
   "metadata": {},
   "outputs": [
    {
     "name": "stdout",
     "output_type": "stream",
     "text": [
      "125\n"
     ]
    }
   ],
   "source": [
    "x=5\n",
    "y=3\n",
    "z=x**y\n",
    "print(z)\n",
    "### Operator for power"
   ]
  },
  {
   "cell_type": "markdown",
   "id": "e22c75e0",
   "metadata": {},
   "source": [
    "### Modulus"
   ]
  },
  {
   "cell_type": "code",
   "execution_count": null,
   "id": "c89f9f85",
   "metadata": {},
   "outputs": [],
   "source": [
    "x=10\n",
    "y=3\n",
    "z=x%y\n",
    "z\n",
    "### operator for remainder"
   ]
  },
  {
   "cell_type": "code",
   "execution_count": 14,
   "id": "8ba8709e",
   "metadata": {},
   "outputs": [
    {
     "data": {
      "text/plain": [
       "4"
      ]
     },
     "execution_count": 14,
     "metadata": {},
     "output_type": "execute_result"
    }
   ],
   "source": [
    "x=4\n",
    "y=8\n",
    "z=x%y\n",
    "z"
   ]
  },
  {
   "cell_type": "markdown",
   "id": "d63a408c",
   "metadata": {},
   "source": [
    "### if x>y than it will give remainder\n",
    "### but if x<y than it will give the x value"
   ]
  },
  {
   "cell_type": "markdown",
   "id": "a602f122",
   "metadata": {},
   "source": [
    "### Floor Division"
   ]
  },
  {
   "cell_type": "code",
   "execution_count": 16,
   "id": "451834ed",
   "metadata": {},
   "outputs": [
    {
     "data": {
      "text/plain": [
       "2"
      ]
     },
     "execution_count": 16,
     "metadata": {},
     "output_type": "execute_result"
    }
   ],
   "source": [
    "x=10\n",
    "y=5\n",
    "z=x//y\n",
    "z\n",
    "### This gives quotient"
   ]
  },
  {
   "cell_type": "code",
   "execution_count": 17,
   "id": "c1aad709",
   "metadata": {},
   "outputs": [
    {
     "data": {
      "text/plain": [
       "0"
      ]
     },
     "execution_count": 17,
     "metadata": {},
     "output_type": "execute_result"
    }
   ],
   "source": [
    "x=2\n",
    "y=10\n",
    "z=x//y\n",
    "z"
   ]
  },
  {
   "cell_type": "markdown",
   "id": "da7e4de3",
   "metadata": {},
   "source": [
    "### if x//y > if x is > y than it will give quotient\n",
    "### if X < y it will give zero"
   ]
  },
  {
   "cell_type": "code",
   "execution_count": null,
   "id": "cfc0c87c",
   "metadata": {},
   "outputs": [],
   "source": []
  },
  {
   "cell_type": "markdown",
   "id": "72205f22",
   "metadata": {},
   "source": [
    "### Relational Operators"
   ]
  },
  {
   "cell_type": "markdown",
   "id": "13921a6e",
   "metadata": {},
   "source": [
    "### types of relational operators\n",
    "==(equals), !=(not equals), > (greater), >= (greater than equal)"
   ]
  },
  {
   "cell_type": "code",
   "execution_count": 19,
   "id": "b31edad1",
   "metadata": {},
   "outputs": [
    {
     "data": {
      "text/plain": [
       "False"
      ]
     },
     "execution_count": 19,
     "metadata": {},
     "output_type": "execute_result"
    }
   ],
   "source": [
    "x=10\n",
    "y=5\n",
    "x==y"
   ]
  },
  {
   "cell_type": "code",
   "execution_count": 20,
   "id": "029df1e9",
   "metadata": {},
   "outputs": [
    {
     "data": {
      "text/plain": [
       "True"
      ]
     },
     "execution_count": 20,
     "metadata": {},
     "output_type": "execute_result"
    }
   ],
   "source": [
    "x=10\n",
    "y=5\n",
    "x!=y\n",
    "### this is for not equals to"
   ]
  },
  {
   "cell_type": "code",
   "execution_count": 21,
   "id": "51216567",
   "metadata": {},
   "outputs": [
    {
     "data": {
      "text/plain": [
       "True"
      ]
     },
     "execution_count": 21,
     "metadata": {},
     "output_type": "execute_result"
    }
   ],
   "source": [
    "x=10\n",
    "y=5\n",
    "x>y\n",
    "### greater than operator"
   ]
  },
  {
   "cell_type": "code",
   "execution_count": 22,
   "id": "dd59894a",
   "metadata": {},
   "outputs": [
    {
     "data": {
      "text/plain": [
       "True"
      ]
     },
     "execution_count": 22,
     "metadata": {},
     "output_type": "execute_result"
    }
   ],
   "source": [
    "x=10\n",
    "y=5\n",
    "x>=y\n",
    "### greater than equals to"
   ]
  },
  {
   "cell_type": "code",
   "execution_count": 23,
   "id": "19f12e50",
   "metadata": {},
   "outputs": [
    {
     "data": {
      "text/plain": [
       "False"
      ]
     },
     "execution_count": 23,
     "metadata": {},
     "output_type": "execute_result"
    }
   ],
   "source": [
    "x=10\n",
    "y=5\n",
    "x<y\n",
    "### Less Than Operator"
   ]
  },
  {
   "cell_type": "code",
   "execution_count": 24,
   "id": "bbbcf788",
   "metadata": {},
   "outputs": [
    {
     "data": {
      "text/plain": [
       "False"
      ]
     },
     "execution_count": 24,
     "metadata": {},
     "output_type": "execute_result"
    }
   ],
   "source": [
    "x=10\n",
    "y=5\n",
    "x<=y\n",
    "### less than Equals to"
   ]
  },
  {
   "cell_type": "markdown",
   "id": "c877780f",
   "metadata": {},
   "source": [
    "### Logical Operators"
   ]
  },
  {
   "cell_type": "markdown",
   "id": "dd535630",
   "metadata": {},
   "source": [
    "### and"
   ]
  },
  {
   "cell_type": "code",
   "execution_count": 26,
   "id": "5607219c",
   "metadata": {},
   "outputs": [],
   "source": [
    "x=True\n",
    "y=False\n",
    "z=True"
   ]
  },
  {
   "cell_type": "code",
   "execution_count": 27,
   "id": "4184ea47",
   "metadata": {},
   "outputs": [
    {
     "data": {
      "text/plain": [
       "False"
      ]
     },
     "execution_count": 27,
     "metadata": {},
     "output_type": "execute_result"
    }
   ],
   "source": [
    "x and y"
   ]
  },
  {
   "cell_type": "code",
   "execution_count": 28,
   "id": "9a3b1721",
   "metadata": {},
   "outputs": [
    {
     "data": {
      "text/plain": [
       "True"
      ]
     },
     "execution_count": 28,
     "metadata": {},
     "output_type": "execute_result"
    }
   ],
   "source": [
    "x and z"
   ]
  },
  {
   "cell_type": "code",
   "execution_count": 29,
   "id": "cf380838",
   "metadata": {},
   "outputs": [
    {
     "data": {
      "text/plain": [
       "False"
      ]
     },
     "execution_count": 29,
     "metadata": {},
     "output_type": "execute_result"
    }
   ],
   "source": [
    "y and z"
   ]
  },
  {
   "cell_type": "markdown",
   "id": "45245c0b",
   "metadata": {},
   "source": [
    "### OR Operator"
   ]
  },
  {
   "cell_type": "code",
   "execution_count": 31,
   "id": "83cfb066",
   "metadata": {},
   "outputs": [
    {
     "data": {
      "text/plain": [
       "True"
      ]
     },
     "execution_count": 31,
     "metadata": {},
     "output_type": "execute_result"
    }
   ],
   "source": [
    "x or y"
   ]
  },
  {
   "cell_type": "code",
   "execution_count": 32,
   "id": "d92d0cea",
   "metadata": {},
   "outputs": [
    {
     "data": {
      "text/plain": [
       "True"
      ]
     },
     "execution_count": 32,
     "metadata": {},
     "output_type": "execute_result"
    }
   ],
   "source": [
    "x or z"
   ]
  },
  {
   "cell_type": "code",
   "execution_count": 33,
   "id": "f5ab263a",
   "metadata": {},
   "outputs": [
    {
     "data": {
      "text/plain": [
       "True"
      ]
     },
     "execution_count": 33,
     "metadata": {},
     "output_type": "execute_result"
    }
   ],
   "source": [
    "y or z"
   ]
  },
  {
   "cell_type": "markdown",
   "id": "34c190ee",
   "metadata": {},
   "source": [
    "### not Operator (opposite)"
   ]
  },
  {
   "cell_type": "code",
   "execution_count": 35,
   "id": "2b0c5330",
   "metadata": {},
   "outputs": [
    {
     "data": {
      "text/plain": [
       "False"
      ]
     },
     "execution_count": 35,
     "metadata": {},
     "output_type": "execute_result"
    }
   ],
   "source": [
    "not(x)"
   ]
  },
  {
   "cell_type": "code",
   "execution_count": 36,
   "id": "7f44028c",
   "metadata": {},
   "outputs": [
    {
     "data": {
      "text/plain": [
       "True"
      ]
     },
     "execution_count": 36,
     "metadata": {},
     "output_type": "execute_result"
    }
   ],
   "source": [
    "not (y)"
   ]
  },
  {
   "cell_type": "code",
   "execution_count": 38,
   "id": "e2e7019a",
   "metadata": {},
   "outputs": [
    {
     "data": {
      "text/plain": [
       "False"
      ]
     },
     "execution_count": 38,
     "metadata": {},
     "output_type": "execute_result"
    }
   ],
   "source": [
    "not (z)"
   ]
  },
  {
   "cell_type": "markdown",
   "id": "cf60070c",
   "metadata": {},
   "source": [
    "### true(1)  false(0)\n",
    "\n",
    "### and > multiplicatin\n",
    "### or > addition\n",
    "### not > opposite"
   ]
  },
  {
   "cell_type": "code",
   "execution_count": null,
   "id": "c9c40b7d",
   "metadata": {},
   "outputs": [],
   "source": []
  }
 ],
 "metadata": {
  "kernelspec": {
   "display_name": "Python 3 (ipykernel)",
   "language": "python",
   "name": "python3"
  },
  "language_info": {
   "codemirror_mode": {
    "name": "ipython",
    "version": 3
   },
   "file_extension": ".py",
   "mimetype": "text/x-python",
   "name": "python",
   "nbconvert_exporter": "python",
   "pygments_lexer": "ipython3",
   "version": "3.11.5"
  }
 },
 "nbformat": 4,
 "nbformat_minor": 5
}
